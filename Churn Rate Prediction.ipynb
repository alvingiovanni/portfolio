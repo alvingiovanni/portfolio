{
    "cells": [
        {
            "cell_type": "markdown",
            "metadata": {},
            "source": [
                "# **Ecommerce Churn Rate Prediction**"
            ]
        },
        {
            "cell_type": "markdown",
            "metadata": {},
            "source": [
                "Dataset source: https://www.kaggle.com/ankitverma2010/ecommerce-customer-churn-analysis-and-prediction\n"
            ]
        },
        {
            "cell_type": "markdown",
            "metadata": {},
            "source": [
                "Goal: Designing a machine learning model that will be able to properly predict churn users."
            ]
        },
        {
            "cell_type": "markdown",
            "metadata": {},
            "source": [
                "# **Initializing**\n"
            ]
        },
        {
            "cell_type": "code",
            "execution_count": 195,
            "metadata": {},
            "outputs": [],
            "source": [
                "import pandas as pd\n",
                "import scipy.stats as ss\n",
                "import numpy as np\n",
                "import seaborn as sns \n",
                "import matplotlib.pyplot as plt "
            ]
        },
        {
            "cell_type": "code",
            "execution_count": 196,
            "metadata": {},
            "outputs": [],
            "source": [
                "def plotborder(plotname, bordercolor, tickcolor):\n",
                "    ## Borders\n",
                "    plotname.spines['top'].set_visible(False)\n",
                "    plotname.spines['right'].set_visible(False)\n",
                "    plotname.spines['bottom'].set_color(str(bordercolor))\n",
                "    plotname.spines['left'].set_color(str(bordercolor))\n",
                "\n",
                "    ## X-ticks Y-ticks\n",
                "    plotname.tick_params(colors = str(tickcolor))\n",
                "    \n",
                "    plt.xticks(fontsize= 12)\n",
                "    plt.yticks(fontsize= 12)"
            ]
        },
        {
            "cell_type": "code",
            "execution_count": 197,
            "metadata": {},
            "outputs": [],
            "source": [
                "def plotlabel(plotname, xlabel, ylabel, labelcolor):\n",
                "    ## X-label\n",
                "    plotname.set_xlabel(str(xlabel), fontsize = 12, color = str(labelcolor), labelpad = 10, fontweight = 'bold')\n",
                "\n",
                "    ## Y-label\n",
                "    plotname.set_ylabel(str(ylabel), fontsize = 12, color = str(labelcolor), labelpad = 10, fontweight = 'bold')"
            ]
        },
        {
            "cell_type": "code",
            "execution_count": 198,
            "metadata": {},
            "outputs": [],
            "source": [
                "def barlabel(dataframe, labelcolumn, plotname, color):\n",
                "\n",
                "    label1 = []\n",
                "    label2 = []\n",
                "\n",
                "    for i in dataframe.index:\n",
                "        if i % 2 == 0:\n",
                "            label1.append(dataframe[str(labelcolumn)][i])\n",
                "        else:\n",
                "            label2.append(dataframe[str(labelcolumn)][i])\n",
                "    \n",
                "    plotname.bar_label(plotname.containers[0], labels = label1, fontsize = 14, fontweight = 'bold', color = color, padding = +5)\n",
                "    plotname.bar_label(plotname.containers[1], labels = label2, fontsize = 14, fontweight = 'bold', color = color, padding = +5)"
            ]
        },
        {
            "cell_type": "code",
            "execution_count": 199,
            "metadata": {},
            "outputs": [],
            "source": [
                "df = pd.read_excel('E Commerce Dataset.xlsx', sheet_name = 1)"
            ]
        },
        {
            "cell_type": "code",
            "execution_count": 200,
            "metadata": {},
            "outputs": [
                {
                    "data": {
                        "text/html": [
                            "<div>\n",
                            "<style scoped>\n",
                            "    .dataframe tbody tr th:only-of-type {\n",
                            "        vertical-align: middle;\n",
                            "    }\n",
                            "\n",
                            "    .dataframe tbody tr th {\n",
                            "        vertical-align: top;\n",
                            "    }\n",
                            "\n",
                            "    .dataframe thead th {\n",
                            "        text-align: right;\n",
                            "    }\n",
                            "</style>\n",
                            "<table border=\"1\" class=\"dataframe\">\n",
                            "  <thead>\n",
                            "    <tr style=\"text-align: right;\">\n",
                            "      <th></th>\n",
                            "      <th>CustomerID</th>\n",
                            "      <th>Churn</th>\n",
                            "      <th>Tenure</th>\n",
                            "      <th>PreferredLoginDevice</th>\n",
                            "      <th>CityTier</th>\n",
                            "      <th>WarehouseToHome</th>\n",
                            "      <th>PreferredPaymentMode</th>\n",
                            "      <th>Gender</th>\n",
                            "      <th>HourSpendOnApp</th>\n",
                            "      <th>NumberOfDeviceRegistered</th>\n",
                            "      <th>PreferedOrderCat</th>\n",
                            "      <th>SatisfactionScore</th>\n",
                            "      <th>MaritalStatus</th>\n",
                            "      <th>NumberOfAddress</th>\n",
                            "      <th>Complain</th>\n",
                            "      <th>OrderAmountHikeFromlastYear</th>\n",
                            "      <th>CouponUsed</th>\n",
                            "      <th>OrderCount</th>\n",
                            "      <th>DaySinceLastOrder</th>\n",
                            "      <th>CashbackAmount</th>\n",
                            "    </tr>\n",
                            "  </thead>\n",
                            "  <tbody>\n",
                            "    <tr>\n",
                            "      <th>0</th>\n",
                            "      <td>50001</td>\n",
                            "      <td>1</td>\n",
                            "      <td>4.0</td>\n",
                            "      <td>Mobile Phone</td>\n",
                            "      <td>3</td>\n",
                            "      <td>6.0</td>\n",
                            "      <td>Debit Card</td>\n",
                            "      <td>Female</td>\n",
                            "      <td>3.0</td>\n",
                            "      <td>3</td>\n",
                            "      <td>Laptop &amp; Accessory</td>\n",
                            "      <td>2</td>\n",
                            "      <td>Single</td>\n",
                            "      <td>9</td>\n",
                            "      <td>1</td>\n",
                            "      <td>11.0</td>\n",
                            "      <td>1.0</td>\n",
                            "      <td>1.0</td>\n",
                            "      <td>5.0</td>\n",
                            "      <td>159.93</td>\n",
                            "    </tr>\n",
                            "    <tr>\n",
                            "      <th>1</th>\n",
                            "      <td>50002</td>\n",
                            "      <td>1</td>\n",
                            "      <td>NaN</td>\n",
                            "      <td>Phone</td>\n",
                            "      <td>1</td>\n",
                            "      <td>8.0</td>\n",
                            "      <td>UPI</td>\n",
                            "      <td>Male</td>\n",
                            "      <td>3.0</td>\n",
                            "      <td>4</td>\n",
                            "      <td>Mobile</td>\n",
                            "      <td>3</td>\n",
                            "      <td>Single</td>\n",
                            "      <td>7</td>\n",
                            "      <td>1</td>\n",
                            "      <td>15.0</td>\n",
                            "      <td>0.0</td>\n",
                            "      <td>1.0</td>\n",
                            "      <td>0.0</td>\n",
                            "      <td>120.90</td>\n",
                            "    </tr>\n",
                            "    <tr>\n",
                            "      <th>2</th>\n",
                            "      <td>50003</td>\n",
                            "      <td>1</td>\n",
                            "      <td>NaN</td>\n",
                            "      <td>Phone</td>\n",
                            "      <td>1</td>\n",
                            "      <td>30.0</td>\n",
                            "      <td>Debit Card</td>\n",
                            "      <td>Male</td>\n",
                            "      <td>2.0</td>\n",
                            "      <td>4</td>\n",
                            "      <td>Mobile</td>\n",
                            "      <td>3</td>\n",
                            "      <td>Single</td>\n",
                            "      <td>6</td>\n",
                            "      <td>1</td>\n",
                            "      <td>14.0</td>\n",
                            "      <td>0.0</td>\n",
                            "      <td>1.0</td>\n",
                            "      <td>3.0</td>\n",
                            "      <td>120.28</td>\n",
                            "    </tr>\n",
                            "    <tr>\n",
                            "      <th>3</th>\n",
                            "      <td>50004</td>\n",
                            "      <td>1</td>\n",
                            "      <td>0.0</td>\n",
                            "      <td>Phone</td>\n",
                            "      <td>3</td>\n",
                            "      <td>15.0</td>\n",
                            "      <td>Debit Card</td>\n",
                            "      <td>Male</td>\n",
                            "      <td>2.0</td>\n",
                            "      <td>4</td>\n",
                            "      <td>Laptop &amp; Accessory</td>\n",
                            "      <td>5</td>\n",
                            "      <td>Single</td>\n",
                            "      <td>8</td>\n",
                            "      <td>0</td>\n",
                            "      <td>23.0</td>\n",
                            "      <td>0.0</td>\n",
                            "      <td>1.0</td>\n",
                            "      <td>3.0</td>\n",
                            "      <td>134.07</td>\n",
                            "    </tr>\n",
                            "    <tr>\n",
                            "      <th>4</th>\n",
                            "      <td>50005</td>\n",
                            "      <td>1</td>\n",
                            "      <td>0.0</td>\n",
                            "      <td>Phone</td>\n",
                            "      <td>1</td>\n",
                            "      <td>12.0</td>\n",
                            "      <td>CC</td>\n",
                            "      <td>Male</td>\n",
                            "      <td>NaN</td>\n",
                            "      <td>3</td>\n",
                            "      <td>Mobile</td>\n",
                            "      <td>5</td>\n",
                            "      <td>Single</td>\n",
                            "      <td>3</td>\n",
                            "      <td>0</td>\n",
                            "      <td>11.0</td>\n",
                            "      <td>1.0</td>\n",
                            "      <td>1.0</td>\n",
                            "      <td>3.0</td>\n",
                            "      <td>129.60</td>\n",
                            "    </tr>\n",
                            "  </tbody>\n",
                            "</table>\n",
                            "</div>"
                        ],
                        "text/plain": [
                            "   CustomerID  Churn  Tenure PreferredLoginDevice  CityTier  WarehouseToHome  \\\n",
                            "0       50001      1     4.0         Mobile Phone         3              6.0   \n",
                            "1       50002      1     NaN                Phone         1              8.0   \n",
                            "2       50003      1     NaN                Phone         1             30.0   \n",
                            "3       50004      1     0.0                Phone         3             15.0   \n",
                            "4       50005      1     0.0                Phone         1             12.0   \n",
                            "\n",
                            "  PreferredPaymentMode  Gender  HourSpendOnApp  NumberOfDeviceRegistered  \\\n",
                            "0           Debit Card  Female             3.0                         3   \n",
                            "1                  UPI    Male             3.0                         4   \n",
                            "2           Debit Card    Male             2.0                         4   \n",
                            "3           Debit Card    Male             2.0                         4   \n",
                            "4                   CC    Male             NaN                         3   \n",
                            "\n",
                            "     PreferedOrderCat  SatisfactionScore MaritalStatus  NumberOfAddress  \\\n",
                            "0  Laptop & Accessory                  2        Single                9   \n",
                            "1              Mobile                  3        Single                7   \n",
                            "2              Mobile                  3        Single                6   \n",
                            "3  Laptop & Accessory                  5        Single                8   \n",
                            "4              Mobile                  5        Single                3   \n",
                            "\n",
                            "   Complain  OrderAmountHikeFromlastYear  CouponUsed  OrderCount  \\\n",
                            "0         1                         11.0         1.0         1.0   \n",
                            "1         1                         15.0         0.0         1.0   \n",
                            "2         1                         14.0         0.0         1.0   \n",
                            "3         0                         23.0         0.0         1.0   \n",
                            "4         0                         11.0         1.0         1.0   \n",
                            "\n",
                            "   DaySinceLastOrder  CashbackAmount  \n",
                            "0                5.0          159.93  \n",
                            "1                0.0          120.90  \n",
                            "2                3.0          120.28  \n",
                            "3                3.0          134.07  \n",
                            "4                3.0          129.60  "
                        ]
                    },
                    "execution_count": 200,
                    "metadata": {},
                    "output_type": "execute_result"
                }
            ],
            "source": [
                "df.head()"
            ]
        },
        {
            "cell_type": "code",
            "execution_count": 201,
            "metadata": {},
            "outputs": [
                {
                    "data": {
                        "text/html": [
                            "<div>\n",
                            "<style scoped>\n",
                            "    .dataframe tbody tr th:only-of-type {\n",
                            "        vertical-align: middle;\n",
                            "    }\n",
                            "\n",
                            "    .dataframe tbody tr th {\n",
                            "        vertical-align: top;\n",
                            "    }\n",
                            "\n",
                            "    .dataframe thead th {\n",
                            "        text-align: right;\n",
                            "    }\n",
                            "</style>\n",
                            "<table border=\"1\" class=\"dataframe\">\n",
                            "  <thead>\n",
                            "    <tr style=\"text-align: right;\">\n",
                            "      <th></th>\n",
                            "      <th>CustomerID</th>\n",
                            "      <th>Churn</th>\n",
                            "      <th>Tenure</th>\n",
                            "      <th>CityTier</th>\n",
                            "      <th>WarehouseToHome</th>\n",
                            "      <th>HourSpendOnApp</th>\n",
                            "      <th>NumberOfDeviceRegistered</th>\n",
                            "      <th>SatisfactionScore</th>\n",
                            "      <th>NumberOfAddress</th>\n",
                            "      <th>Complain</th>\n",
                            "      <th>OrderAmountHikeFromlastYear</th>\n",
                            "      <th>CouponUsed</th>\n",
                            "      <th>OrderCount</th>\n",
                            "      <th>DaySinceLastOrder</th>\n",
                            "      <th>CashbackAmount</th>\n",
                            "    </tr>\n",
                            "  </thead>\n",
                            "  <tbody>\n",
                            "    <tr>\n",
                            "      <th>count</th>\n",
                            "      <td>5630.000000</td>\n",
                            "      <td>5630.000000</td>\n",
                            "      <td>5366.000000</td>\n",
                            "      <td>5630.000000</td>\n",
                            "      <td>5379.000000</td>\n",
                            "      <td>5375.000000</td>\n",
                            "      <td>5630.000000</td>\n",
                            "      <td>5630.000000</td>\n",
                            "      <td>5630.000000</td>\n",
                            "      <td>5630.000000</td>\n",
                            "      <td>5365.000000</td>\n",
                            "      <td>5374.000000</td>\n",
                            "      <td>5372.000000</td>\n",
                            "      <td>5323.000000</td>\n",
                            "      <td>5630.000000</td>\n",
                            "    </tr>\n",
                            "    <tr>\n",
                            "      <th>mean</th>\n",
                            "      <td>52815.500000</td>\n",
                            "      <td>0.168384</td>\n",
                            "      <td>10.189899</td>\n",
                            "      <td>1.654707</td>\n",
                            "      <td>15.639896</td>\n",
                            "      <td>2.931535</td>\n",
                            "      <td>3.688988</td>\n",
                            "      <td>3.066785</td>\n",
                            "      <td>4.214032</td>\n",
                            "      <td>0.284902</td>\n",
                            "      <td>15.707922</td>\n",
                            "      <td>1.751023</td>\n",
                            "      <td>3.008004</td>\n",
                            "      <td>4.543491</td>\n",
                            "      <td>177.223030</td>\n",
                            "    </tr>\n",
                            "    <tr>\n",
                            "      <th>std</th>\n",
                            "      <td>1625.385339</td>\n",
                            "      <td>0.374240</td>\n",
                            "      <td>8.557241</td>\n",
                            "      <td>0.915389</td>\n",
                            "      <td>8.531475</td>\n",
                            "      <td>0.721926</td>\n",
                            "      <td>1.023999</td>\n",
                            "      <td>1.380194</td>\n",
                            "      <td>2.583586</td>\n",
                            "      <td>0.451408</td>\n",
                            "      <td>3.675485</td>\n",
                            "      <td>1.894621</td>\n",
                            "      <td>2.939680</td>\n",
                            "      <td>3.654433</td>\n",
                            "      <td>49.207036</td>\n",
                            "    </tr>\n",
                            "    <tr>\n",
                            "      <th>min</th>\n",
                            "      <td>50001.000000</td>\n",
                            "      <td>0.000000</td>\n",
                            "      <td>0.000000</td>\n",
                            "      <td>1.000000</td>\n",
                            "      <td>5.000000</td>\n",
                            "      <td>0.000000</td>\n",
                            "      <td>1.000000</td>\n",
                            "      <td>1.000000</td>\n",
                            "      <td>1.000000</td>\n",
                            "      <td>0.000000</td>\n",
                            "      <td>11.000000</td>\n",
                            "      <td>0.000000</td>\n",
                            "      <td>1.000000</td>\n",
                            "      <td>0.000000</td>\n",
                            "      <td>0.000000</td>\n",
                            "    </tr>\n",
                            "    <tr>\n",
                            "      <th>25%</th>\n",
                            "      <td>51408.250000</td>\n",
                            "      <td>0.000000</td>\n",
                            "      <td>2.000000</td>\n",
                            "      <td>1.000000</td>\n",
                            "      <td>9.000000</td>\n",
                            "      <td>2.000000</td>\n",
                            "      <td>3.000000</td>\n",
                            "      <td>2.000000</td>\n",
                            "      <td>2.000000</td>\n",
                            "      <td>0.000000</td>\n",
                            "      <td>13.000000</td>\n",
                            "      <td>1.000000</td>\n",
                            "      <td>1.000000</td>\n",
                            "      <td>2.000000</td>\n",
                            "      <td>145.770000</td>\n",
                            "    </tr>\n",
                            "    <tr>\n",
                            "      <th>50%</th>\n",
                            "      <td>52815.500000</td>\n",
                            "      <td>0.000000</td>\n",
                            "      <td>9.000000</td>\n",
                            "      <td>1.000000</td>\n",
                            "      <td>14.000000</td>\n",
                            "      <td>3.000000</td>\n",
                            "      <td>4.000000</td>\n",
                            "      <td>3.000000</td>\n",
                            "      <td>3.000000</td>\n",
                            "      <td>0.000000</td>\n",
                            "      <td>15.000000</td>\n",
                            "      <td>1.000000</td>\n",
                            "      <td>2.000000</td>\n",
                            "      <td>3.000000</td>\n",
                            "      <td>163.280000</td>\n",
                            "    </tr>\n",
                            "    <tr>\n",
                            "      <th>75%</th>\n",
                            "      <td>54222.750000</td>\n",
                            "      <td>0.000000</td>\n",
                            "      <td>16.000000</td>\n",
                            "      <td>3.000000</td>\n",
                            "      <td>20.000000</td>\n",
                            "      <td>3.000000</td>\n",
                            "      <td>4.000000</td>\n",
                            "      <td>4.000000</td>\n",
                            "      <td>6.000000</td>\n",
                            "      <td>1.000000</td>\n",
                            "      <td>18.000000</td>\n",
                            "      <td>2.000000</td>\n",
                            "      <td>3.000000</td>\n",
                            "      <td>7.000000</td>\n",
                            "      <td>196.392500</td>\n",
                            "    </tr>\n",
                            "    <tr>\n",
                            "      <th>max</th>\n",
                            "      <td>55630.000000</td>\n",
                            "      <td>1.000000</td>\n",
                            "      <td>61.000000</td>\n",
                            "      <td>3.000000</td>\n",
                            "      <td>127.000000</td>\n",
                            "      <td>5.000000</td>\n",
                            "      <td>6.000000</td>\n",
                            "      <td>5.000000</td>\n",
                            "      <td>22.000000</td>\n",
                            "      <td>1.000000</td>\n",
                            "      <td>26.000000</td>\n",
                            "      <td>16.000000</td>\n",
                            "      <td>16.000000</td>\n",
                            "      <td>46.000000</td>\n",
                            "      <td>324.990000</td>\n",
                            "    </tr>\n",
                            "  </tbody>\n",
                            "</table>\n",
                            "</div>"
                        ],
                        "text/plain": [
                            "         CustomerID        Churn       Tenure     CityTier  WarehouseToHome  \\\n",
                            "count   5630.000000  5630.000000  5366.000000  5630.000000      5379.000000   \n",
                            "mean   52815.500000     0.168384    10.189899     1.654707        15.639896   \n",
                            "std     1625.385339     0.374240     8.557241     0.915389         8.531475   \n",
                            "min    50001.000000     0.000000     0.000000     1.000000         5.000000   \n",
                            "25%    51408.250000     0.000000     2.000000     1.000000         9.000000   \n",
                            "50%    52815.500000     0.000000     9.000000     1.000000        14.000000   \n",
                            "75%    54222.750000     0.000000    16.000000     3.000000        20.000000   \n",
                            "max    55630.000000     1.000000    61.000000     3.000000       127.000000   \n",
                            "\n",
                            "       HourSpendOnApp  NumberOfDeviceRegistered  SatisfactionScore  \\\n",
                            "count     5375.000000               5630.000000        5630.000000   \n",
                            "mean         2.931535                  3.688988           3.066785   \n",
                            "std          0.721926                  1.023999           1.380194   \n",
                            "min          0.000000                  1.000000           1.000000   \n",
                            "25%          2.000000                  3.000000           2.000000   \n",
                            "50%          3.000000                  4.000000           3.000000   \n",
                            "75%          3.000000                  4.000000           4.000000   \n",
                            "max          5.000000                  6.000000           5.000000   \n",
                            "\n",
                            "       NumberOfAddress     Complain  OrderAmountHikeFromlastYear   CouponUsed  \\\n",
                            "count      5630.000000  5630.000000                  5365.000000  5374.000000   \n",
                            "mean          4.214032     0.284902                    15.707922     1.751023   \n",
                            "std           2.583586     0.451408                     3.675485     1.894621   \n",
                            "min           1.000000     0.000000                    11.000000     0.000000   \n",
                            "25%           2.000000     0.000000                    13.000000     1.000000   \n",
                            "50%           3.000000     0.000000                    15.000000     1.000000   \n",
                            "75%           6.000000     1.000000                    18.000000     2.000000   \n",
                            "max          22.000000     1.000000                    26.000000    16.000000   \n",
                            "\n",
                            "        OrderCount  DaySinceLastOrder  CashbackAmount  \n",
                            "count  5372.000000        5323.000000     5630.000000  \n",
                            "mean      3.008004           4.543491      177.223030  \n",
                            "std       2.939680           3.654433       49.207036  \n",
                            "min       1.000000           0.000000        0.000000  \n",
                            "25%       1.000000           2.000000      145.770000  \n",
                            "50%       2.000000           3.000000      163.280000  \n",
                            "75%       3.000000           7.000000      196.392500  \n",
                            "max      16.000000          46.000000      324.990000  "
                        ]
                    },
                    "execution_count": 201,
                    "metadata": {},
                    "output_type": "execute_result"
                }
            ],
            "source": [
                "df.describe()"
            ]
        },
        {
            "cell_type": "code",
            "execution_count": 202,
            "metadata": {},
            "outputs": [
                {
                    "name": "stdout",
                    "output_type": "stream",
                    "text": [
                        "<class 'pandas.core.frame.DataFrame'>\n",
                        "RangeIndex: 5630 entries, 0 to 5629\n",
                        "Data columns (total 20 columns):\n",
                        " #   Column                       Non-Null Count  Dtype  \n",
                        "---  ------                       --------------  -----  \n",
                        " 0   CustomerID                   5630 non-null   int64  \n",
                        " 1   Churn                        5630 non-null   int64  \n",
                        " 2   Tenure                       5366 non-null   float64\n",
                        " 3   PreferredLoginDevice         5630 non-null   object \n",
                        " 4   CityTier                     5630 non-null   int64  \n",
                        " 5   WarehouseToHome              5379 non-null   float64\n",
                        " 6   PreferredPaymentMode         5630 non-null   object \n",
                        " 7   Gender                       5630 non-null   object \n",
                        " 8   HourSpendOnApp               5375 non-null   float64\n",
                        " 9   NumberOfDeviceRegistered     5630 non-null   int64  \n",
                        " 10  PreferedOrderCat             5630 non-null   object \n",
                        " 11  SatisfactionScore            5630 non-null   int64  \n",
                        " 12  MaritalStatus                5630 non-null   object \n",
                        " 13  NumberOfAddress              5630 non-null   int64  \n",
                        " 14  Complain                     5630 non-null   int64  \n",
                        " 15  OrderAmountHikeFromlastYear  5365 non-null   float64\n",
                        " 16  CouponUsed                   5374 non-null   float64\n",
                        " 17  OrderCount                   5372 non-null   float64\n",
                        " 18  DaySinceLastOrder            5323 non-null   float64\n",
                        " 19  CashbackAmount               5630 non-null   float64\n",
                        "dtypes: float64(8), int64(7), object(5)\n",
                        "memory usage: 879.8+ KB\n"
                    ]
                }
            ],
            "source": [
                "df.info()"
            ]
        },
        {
            "cell_type": "markdown",
            "metadata": {},
            "source": [
                "# **Data Cleansing & Pre-Processing**"
            ]
        },
        {
            "cell_type": "markdown",
            "metadata": {},
            "source": [
                "Data cleansing and pre-processing are essential steps in preparing data for predictive modelling. This process purpose is to rid the data of incorrect, incomplete, improperly formatted, or duplicative data; these data are useless data or at worst misleading. When data full of ‘junk’ are being used to design a predictive model, the model itself will turn out to be a ‘junk; as many people says “Garbage in, garbage out”."
            ]
        },
        {
            "cell_type": "markdown",
            "metadata": {},
            "source": [
                "## **Check Duplicate Data**"
            ]
        },
        {
            "cell_type": "markdown",
            "metadata": {},
            "source": [
                "Duplicate datas can introduce bias into the model; since data that are supposed to be occuring only once ends up occuring more than once and weight more on the model's calculation. This particular data have no duplicate values so the data can be left alone."
            ]
        },
        {
            "cell_type": "code",
            "execution_count": 203,
            "metadata": {},
            "outputs": [
                {
                    "data": {
                        "text/plain": [
                            "False    5630\n",
                            "dtype: int64"
                        ]
                    },
                    "execution_count": 203,
                    "metadata": {},
                    "output_type": "execute_result"
                }
            ],
            "source": [
                "df.duplicated().value_counts()"
            ]
        },
        {
            "cell_type": "code",
            "execution_count": 204,
            "metadata": {},
            "outputs": [
                {
                    "name": "stdout",
                    "output_type": "stream",
                    "text": [
                        "Duplicate Rows: 0\n",
                        "Non-Duplicate Rows: 5630\n"
                    ]
                }
            ],
            "source": [
                "print('Duplicate Rows:',0)\n",
                "print('Non-Duplicate Rows:', df.duplicated().value_counts()[0])"
            ]
        },
        {
            "cell_type": "markdown",
            "metadata": {},
            "source": [
                "## **Dropping Features**"
            ]
        },
        {
            "cell_type": "markdown",
            "metadata": {},
            "source": [
                "Having analysing the data previously in the analysis part, there are a few features that need to be preemptively removed:\n",
                "1. CustomerID - is a random number assigned and will introduce a random element into the model.\n",
                "2. Tenure - this is because keeping this feature will introduce bias in the model; since it was determined that most of the churn users are on `Tenure <=2` its important to be able to predict the users' churn probability as earlu as possible regardless of their tenure.\n",
                "3. DaySinceLastOrder - a feature that indirectly also defines users' tenure; as it is the opposite of tenure."
            ]
        },
        {
            "cell_type": "code",
            "execution_count": 205,
            "metadata": {},
            "outputs": [],
            "source": [
                "df_copy = df.copy()\n",
                "df_copy.drop(columns = ['CustomerID', 'Tenure', 'DaySinceLastOrder'], inplace = True)"
            ]
        },
        {
            "cell_type": "markdown",
            "metadata": {},
            "source": [
                "## **Dealing With Missing Values**"
            ]
        },
        {
            "cell_type": "markdown",
            "metadata": {},
            "source": [
                "The data have some features with missing value that needs to be addressed. Firstly it is possible to just drop all the missing value row and check if the row reduction would be too much or not."
            ]
        },
        {
            "cell_type": "code",
            "execution_count": 206,
            "metadata": {},
            "outputs": [
                {
                    "name": "stdout",
                    "output_type": "stream",
                    "text": [
                        "Rows before dropna: 5630\n",
                        "Rows left after dropna: 4345\n",
                        "Data Shrinkage: 22.82 %\n"
                    ]
                }
            ],
            "source": [
                "df_drop = df_copy.dropna()\n",
                "print('Rows before dropna:', len(df_copy))\n",
                "print('Rows left after dropna:', len(df_drop))\n",
                "print('Data Shrinkage:', round((len(df_copy) - len(df_drop))/len(df_copy)*100, 2), '%')"
            ]
        },
        {
            "cell_type": "markdown",
            "metadata": {},
            "source": [
                "Dropping all rows with missing value reduces the data size by 28.28%; which is too much so another treatment for missing values need to be done. Since all the missing values are on numerical columns, there are two choices, to fill all missing values with mean or median. With some of the features needing an integer (rounded non-decimal numbers) `CityTier` or boolean feature that are defined by 0/1; most of the features' mean and median are close to each other; for this case filling missing value with median would be more fitting."
            ]
        },
        {
            "cell_type": "code",
            "execution_count": 207,
            "metadata": {},
            "outputs": [
                {
                    "name": "stdout",
                    "output_type": "stream",
                    "text": [
                        "<class 'pandas.core.frame.DataFrame'>\n",
                        "RangeIndex: 5630 entries, 0 to 5629\n",
                        "Data columns (total 17 columns):\n",
                        " #   Column                       Non-Null Count  Dtype  \n",
                        "---  ------                       --------------  -----  \n",
                        " 0   Churn                        5630 non-null   int64  \n",
                        " 1   PreferredLoginDevice         5630 non-null   object \n",
                        " 2   CityTier                     5630 non-null   int64  \n",
                        " 3   WarehouseToHome              5630 non-null   float64\n",
                        " 4   PreferredPaymentMode         5630 non-null   object \n",
                        " 5   Gender                       5630 non-null   object \n",
                        " 6   HourSpendOnApp               5630 non-null   float64\n",
                        " 7   NumberOfDeviceRegistered     5630 non-null   int64  \n",
                        " 8   PreferedOrderCat             5630 non-null   object \n",
                        " 9   SatisfactionScore            5630 non-null   int64  \n",
                        " 10  MaritalStatus                5630 non-null   object \n",
                        " 11  NumberOfAddress              5630 non-null   int64  \n",
                        " 12  Complain                     5630 non-null   int64  \n",
                        " 13  OrderAmountHikeFromlastYear  5630 non-null   float64\n",
                        " 14  CouponUsed                   5630 non-null   float64\n",
                        " 15  OrderCount                   5630 non-null   float64\n",
                        " 16  CashbackAmount               5630 non-null   float64\n",
                        "dtypes: float64(6), int64(6), object(5)\n",
                        "memory usage: 747.9+ KB\n"
                    ]
                }
            ],
            "source": [
                "df_2 = df_copy.copy()\n",
                "\n",
                "## Fill missing value only on numerical columns\n",
                "for i in df_copy.columns:\n",
                "    if (df_2[i].dtypes == 'int64' or df_2[i].dtypes == 'float64'):\n",
                "        df_2[i] = df_2[i].fillna(round(df_2[i].median(),0))\n",
                "\n",
                "df_2.info()"
            ]
        },
        {
            "cell_type": "markdown",
            "metadata": {},
            "source": [
                "## **Outlier filter with Zscore**"
            ]
        },
        {
            "cell_type": "markdown",
            "metadata": {},
            "source": [
                "By definition, an outlier is an object (in this case data) that diverge substantially from the rest of the group's average. Outliers usually introduce noises in data and often something that breaks a pattern.   \n",
                "\n",
                "It is important to take care of outlier data that are going to be used to design a predictive model. Most of the time, removing outlier value from the whole data will help improve the performance of the model; it is better to remove the outlier in this case.\n",
                "\n",
                "The outlier filter will be using z-score. Z-scores gives a score of how many `times of standard deviation` the distance of the data is from its dataset average. The break point is on **3 times standard deviation**, since 3 times standard deviation represents 99.7% of the whole dataset on a normal distribution data."
            ]
        },
        {
            "cell_type": "code",
            "execution_count": 38,
            "metadata": {},
            "outputs": [
                {
                    "data": {
                        "text/html": [
                            "<div>\n",
                            "<style scoped>\n",
                            "    .dataframe tbody tr th:only-of-type {\n",
                            "        vertical-align: middle;\n",
                            "    }\n",
                            "\n",
                            "    .dataframe tbody tr th {\n",
                            "        vertical-align: top;\n",
                            "    }\n",
                            "\n",
                            "    .dataframe thead th {\n",
                            "        text-align: right;\n",
                            "    }\n",
                            "</style>\n",
                            "<table border=\"1\" class=\"dataframe\">\n",
                            "  <thead>\n",
                            "    <tr style=\"text-align: right;\">\n",
                            "      <th></th>\n",
                            "      <th>Churn</th>\n",
                            "      <th>PreferredLoginDevice</th>\n",
                            "      <th>CityTier</th>\n",
                            "      <th>WarehouseToHome</th>\n",
                            "      <th>PreferredPaymentMode</th>\n",
                            "      <th>Gender</th>\n",
                            "      <th>HourSpendOnApp</th>\n",
                            "      <th>NumberOfDeviceRegistered</th>\n",
                            "      <th>PreferedOrderCat</th>\n",
                            "      <th>SatisfactionScore</th>\n",
                            "      <th>MaritalStatus</th>\n",
                            "      <th>NumberOfAddress</th>\n",
                            "      <th>Complain</th>\n",
                            "      <th>OrderAmountHikeFromlastYear</th>\n",
                            "      <th>CouponUsed</th>\n",
                            "      <th>OrderCount</th>\n",
                            "      <th>CashbackAmount</th>\n",
                            "    </tr>\n",
                            "  </thead>\n",
                            "  <tbody>\n",
                            "    <tr>\n",
                            "      <th>0</th>\n",
                            "      <td>1</td>\n",
                            "      <td>Mobile Phone</td>\n",
                            "      <td>3</td>\n",
                            "      <td>6.0</td>\n",
                            "      <td>Debit Card</td>\n",
                            "      <td>Female</td>\n",
                            "      <td>3.0</td>\n",
                            "      <td>3</td>\n",
                            "      <td>Laptop &amp; Accessory</td>\n",
                            "      <td>2</td>\n",
                            "      <td>Single</td>\n",
                            "      <td>9.0</td>\n",
                            "      <td>1</td>\n",
                            "      <td>11.0</td>\n",
                            "      <td>1.0</td>\n",
                            "      <td>1.0</td>\n",
                            "      <td>159.93</td>\n",
                            "    </tr>\n",
                            "    <tr>\n",
                            "      <th>1</th>\n",
                            "      <td>1</td>\n",
                            "      <td>Phone</td>\n",
                            "      <td>1</td>\n",
                            "      <td>8.0</td>\n",
                            "      <td>UPI</td>\n",
                            "      <td>Male</td>\n",
                            "      <td>3.0</td>\n",
                            "      <td>4</td>\n",
                            "      <td>Mobile</td>\n",
                            "      <td>3</td>\n",
                            "      <td>Single</td>\n",
                            "      <td>7.0</td>\n",
                            "      <td>1</td>\n",
                            "      <td>15.0</td>\n",
                            "      <td>0.0</td>\n",
                            "      <td>1.0</td>\n",
                            "      <td>120.90</td>\n",
                            "    </tr>\n",
                            "    <tr>\n",
                            "      <th>2</th>\n",
                            "      <td>1</td>\n",
                            "      <td>Phone</td>\n",
                            "      <td>1</td>\n",
                            "      <td>30.0</td>\n",
                            "      <td>Debit Card</td>\n",
                            "      <td>Male</td>\n",
                            "      <td>2.0</td>\n",
                            "      <td>4</td>\n",
                            "      <td>Mobile</td>\n",
                            "      <td>3</td>\n",
                            "      <td>Single</td>\n",
                            "      <td>6.0</td>\n",
                            "      <td>1</td>\n",
                            "      <td>14.0</td>\n",
                            "      <td>0.0</td>\n",
                            "      <td>1.0</td>\n",
                            "      <td>120.28</td>\n",
                            "    </tr>\n",
                            "    <tr>\n",
                            "      <th>3</th>\n",
                            "      <td>1</td>\n",
                            "      <td>Phone</td>\n",
                            "      <td>3</td>\n",
                            "      <td>15.0</td>\n",
                            "      <td>Debit Card</td>\n",
                            "      <td>Male</td>\n",
                            "      <td>2.0</td>\n",
                            "      <td>4</td>\n",
                            "      <td>Laptop &amp; Accessory</td>\n",
                            "      <td>5</td>\n",
                            "      <td>Single</td>\n",
                            "      <td>8.0</td>\n",
                            "      <td>0</td>\n",
                            "      <td>23.0</td>\n",
                            "      <td>0.0</td>\n",
                            "      <td>1.0</td>\n",
                            "      <td>134.07</td>\n",
                            "    </tr>\n",
                            "    <tr>\n",
                            "      <th>4</th>\n",
                            "      <td>1</td>\n",
                            "      <td>Phone</td>\n",
                            "      <td>1</td>\n",
                            "      <td>12.0</td>\n",
                            "      <td>CC</td>\n",
                            "      <td>Male</td>\n",
                            "      <td>3.0</td>\n",
                            "      <td>3</td>\n",
                            "      <td>Mobile</td>\n",
                            "      <td>5</td>\n",
                            "      <td>Single</td>\n",
                            "      <td>3.0</td>\n",
                            "      <td>0</td>\n",
                            "      <td>11.0</td>\n",
                            "      <td>1.0</td>\n",
                            "      <td>1.0</td>\n",
                            "      <td>129.60</td>\n",
                            "    </tr>\n",
                            "    <tr>\n",
                            "      <th>...</th>\n",
                            "      <td>...</td>\n",
                            "      <td>...</td>\n",
                            "      <td>...</td>\n",
                            "      <td>...</td>\n",
                            "      <td>...</td>\n",
                            "      <td>...</td>\n",
                            "      <td>...</td>\n",
                            "      <td>...</td>\n",
                            "      <td>...</td>\n",
                            "      <td>...</td>\n",
                            "      <td>...</td>\n",
                            "      <td>...</td>\n",
                            "      <td>...</td>\n",
                            "      <td>...</td>\n",
                            "      <td>...</td>\n",
                            "      <td>...</td>\n",
                            "      <td>...</td>\n",
                            "    </tr>\n",
                            "    <tr>\n",
                            "      <th>5625</th>\n",
                            "      <td>0</td>\n",
                            "      <td>Computer</td>\n",
                            "      <td>1</td>\n",
                            "      <td>30.0</td>\n",
                            "      <td>Credit Card</td>\n",
                            "      <td>Male</td>\n",
                            "      <td>3.0</td>\n",
                            "      <td>2</td>\n",
                            "      <td>Laptop &amp; Accessory</td>\n",
                            "      <td>1</td>\n",
                            "      <td>Married</td>\n",
                            "      <td>6.0</td>\n",
                            "      <td>0</td>\n",
                            "      <td>18.0</td>\n",
                            "      <td>1.0</td>\n",
                            "      <td>2.0</td>\n",
                            "      <td>150.71</td>\n",
                            "    </tr>\n",
                            "    <tr>\n",
                            "      <th>5626</th>\n",
                            "      <td>0</td>\n",
                            "      <td>Mobile Phone</td>\n",
                            "      <td>1</td>\n",
                            "      <td>13.0</td>\n",
                            "      <td>Credit Card</td>\n",
                            "      <td>Male</td>\n",
                            "      <td>3.0</td>\n",
                            "      <td>5</td>\n",
                            "      <td>Fashion</td>\n",
                            "      <td>5</td>\n",
                            "      <td>Married</td>\n",
                            "      <td>6.0</td>\n",
                            "      <td>0</td>\n",
                            "      <td>16.0</td>\n",
                            "      <td>1.0</td>\n",
                            "      <td>2.0</td>\n",
                            "      <td>224.91</td>\n",
                            "    </tr>\n",
                            "    <tr>\n",
                            "      <th>5627</th>\n",
                            "      <td>0</td>\n",
                            "      <td>Mobile Phone</td>\n",
                            "      <td>1</td>\n",
                            "      <td>11.0</td>\n",
                            "      <td>Debit Card</td>\n",
                            "      <td>Male</td>\n",
                            "      <td>3.0</td>\n",
                            "      <td>2</td>\n",
                            "      <td>Laptop &amp; Accessory</td>\n",
                            "      <td>4</td>\n",
                            "      <td>Married</td>\n",
                            "      <td>3.0</td>\n",
                            "      <td>1</td>\n",
                            "      <td>21.0</td>\n",
                            "      <td>1.0</td>\n",
                            "      <td>2.0</td>\n",
                            "      <td>186.42</td>\n",
                            "    </tr>\n",
                            "    <tr>\n",
                            "      <th>5628</th>\n",
                            "      <td>0</td>\n",
                            "      <td>Computer</td>\n",
                            "      <td>3</td>\n",
                            "      <td>9.0</td>\n",
                            "      <td>Credit Card</td>\n",
                            "      <td>Male</td>\n",
                            "      <td>4.0</td>\n",
                            "      <td>5</td>\n",
                            "      <td>Laptop &amp; Accessory</td>\n",
                            "      <td>4</td>\n",
                            "      <td>Married</td>\n",
                            "      <td>4.0</td>\n",
                            "      <td>0</td>\n",
                            "      <td>15.0</td>\n",
                            "      <td>2.0</td>\n",
                            "      <td>2.0</td>\n",
                            "      <td>178.90</td>\n",
                            "    </tr>\n",
                            "    <tr>\n",
                            "      <th>5629</th>\n",
                            "      <td>0</td>\n",
                            "      <td>Mobile Phone</td>\n",
                            "      <td>1</td>\n",
                            "      <td>15.0</td>\n",
                            "      <td>Credit Card</td>\n",
                            "      <td>Male</td>\n",
                            "      <td>3.0</td>\n",
                            "      <td>2</td>\n",
                            "      <td>Laptop &amp; Accessory</td>\n",
                            "      <td>3</td>\n",
                            "      <td>Married</td>\n",
                            "      <td>4.0</td>\n",
                            "      <td>0</td>\n",
                            "      <td>13.0</td>\n",
                            "      <td>2.0</td>\n",
                            "      <td>2.0</td>\n",
                            "      <td>169.04</td>\n",
                            "    </tr>\n",
                            "  </tbody>\n",
                            "</table>\n",
                            "<p>5380 rows × 17 columns</p>\n",
                            "</div>"
                        ],
                        "text/plain": [
                            "      Churn PreferredLoginDevice  CityTier  WarehouseToHome  \\\n",
                            "0         1         Mobile Phone         3              6.0   \n",
                            "1         1                Phone         1              8.0   \n",
                            "2         1                Phone         1             30.0   \n",
                            "3         1                Phone         3             15.0   \n",
                            "4         1                Phone         1             12.0   \n",
                            "...     ...                  ...       ...              ...   \n",
                            "5625      0             Computer         1             30.0   \n",
                            "5626      0         Mobile Phone         1             13.0   \n",
                            "5627      0         Mobile Phone         1             11.0   \n",
                            "5628      0             Computer         3              9.0   \n",
                            "5629      0         Mobile Phone         1             15.0   \n",
                            "\n",
                            "     PreferredPaymentMode  Gender  HourSpendOnApp  NumberOfDeviceRegistered  \\\n",
                            "0              Debit Card  Female             3.0                         3   \n",
                            "1                     UPI    Male             3.0                         4   \n",
                            "2              Debit Card    Male             2.0                         4   \n",
                            "3              Debit Card    Male             2.0                         4   \n",
                            "4                      CC    Male             3.0                         3   \n",
                            "...                   ...     ...             ...                       ...   \n",
                            "5625          Credit Card    Male             3.0                         2   \n",
                            "5626          Credit Card    Male             3.0                         5   \n",
                            "5627           Debit Card    Male             3.0                         2   \n",
                            "5628          Credit Card    Male             4.0                         5   \n",
                            "5629          Credit Card    Male             3.0                         2   \n",
                            "\n",
                            "        PreferedOrderCat  SatisfactionScore MaritalStatus  NumberOfAddress  \\\n",
                            "0     Laptop & Accessory                  2        Single              9.0   \n",
                            "1                 Mobile                  3        Single              7.0   \n",
                            "2                 Mobile                  3        Single              6.0   \n",
                            "3     Laptop & Accessory                  5        Single              8.0   \n",
                            "4                 Mobile                  5        Single              3.0   \n",
                            "...                  ...                ...           ...              ...   \n",
                            "5625  Laptop & Accessory                  1       Married              6.0   \n",
                            "5626             Fashion                  5       Married              6.0   \n",
                            "5627  Laptop & Accessory                  4       Married              3.0   \n",
                            "5628  Laptop & Accessory                  4       Married              4.0   \n",
                            "5629  Laptop & Accessory                  3       Married              4.0   \n",
                            "\n",
                            "      Complain  OrderAmountHikeFromlastYear  CouponUsed  OrderCount  \\\n",
                            "0            1                         11.0         1.0         1.0   \n",
                            "1            1                         15.0         0.0         1.0   \n",
                            "2            1                         14.0         0.0         1.0   \n",
                            "3            0                         23.0         0.0         1.0   \n",
                            "4            0                         11.0         1.0         1.0   \n",
                            "...        ...                          ...         ...         ...   \n",
                            "5625         0                         18.0         1.0         2.0   \n",
                            "5626         0                         16.0         1.0         2.0   \n",
                            "5627         1                         21.0         1.0         2.0   \n",
                            "5628         0                         15.0         2.0         2.0   \n",
                            "5629         0                         13.0         2.0         2.0   \n",
                            "\n",
                            "      CashbackAmount  \n",
                            "0             159.93  \n",
                            "1             120.90  \n",
                            "2             120.28  \n",
                            "3             134.07  \n",
                            "4             129.60  \n",
                            "...              ...  \n",
                            "5625          150.71  \n",
                            "5626          224.91  \n",
                            "5627          186.42  \n",
                            "5628          178.90  \n",
                            "5629          169.04  \n",
                            "\n",
                            "[5380 rows x 17 columns]"
                        ]
                    },
                    "execution_count": 38,
                    "metadata": {},
                    "output_type": "execute_result"
                }
            ],
            "source": [
                "df_3 = df_2.copy()\n",
                "\n",
                "## Filter Zscore to only numerical columns\n",
                "for i in df_3.columns:\n",
                "    if (df_3[i].dtypes == 'int64' or df_2[i].dtypes == 'float64'):\n",
                "        z_scores = np.abs(ss.zscore(df_3[i]))\n",
                "        filter_entry = (z_scores < 3)\n",
                "        df_3[i] = df_3[i][filter_entry]\n",
                "\n",
                "## Drop NA value (outlier values)\n",
                "df_3.dropna(inplace = True)\n",
                "df_3"
            ]
        },
        {
            "cell_type": "code",
            "execution_count": 210,
            "metadata": {},
            "outputs": [
                {
                    "name": "stdout",
                    "output_type": "stream",
                    "text": [
                        "Rows before outlier filter: 5630\n",
                        "Rows left after outlier filter: 5380\n"
                    ]
                }
            ],
            "source": [
                "print('Rows before outlier filter:', len(df_2))\n",
                "print('Rows left after outlier filter:', len(df_3))"
            ]
        },
        {
            "cell_type": "markdown",
            "metadata": {},
            "source": [
                "## **Class Imbalance**"
            ]
        },
        {
            "cell_type": "markdown",
            "metadata": {},
            "source": [
                "Since this is a classification problem, there is a need to check for class imbalance on the target data. Class imbalance is where the class distribution across the data is knowned to be biased or skewed; in this case the class is the churn data. \n",
                "\n",
                "Original data class distribution:"
            ]
        },
        {
            "cell_type": "code",
            "execution_count": 77,
            "metadata": {},
            "outputs": [
                {
                    "name": "stdout",
                    "output_type": "stream",
                    "text": [
                        "Non-Churn Users: 4467\n",
                        "Churn Users: 913\n"
                    ]
                }
            ],
            "source": [
                "print('Non-Churn Users:', df_3['Churn'].value_counts()[0])\n",
                "print('Churn Users:', df_3['Churn'].value_counts()[1])"
            ]
        },
        {
            "cell_type": "markdown",
            "metadata": {},
            "source": [
                "The target, churn/non-churn status of users, distribution is biased towards 'non-churn'; it is 83% of the whole sample. With this bias, the 'minority' class could end up being ignored by the model; simply stating that all of the users as 'non-churn' users would result in 83% accuracy.\n",
                "\n",
                "There are alot of different methods to deal with class imbalance issue, one of them is to oversample the data. In this case oversampling is done with SMOTE. The resulting oversampling is to equalize the data size for both classes."
            ]
        },
        {
            "cell_type": "code",
            "execution_count": 78,
            "metadata": {},
            "outputs": [],
            "source": [
                "X = df_3.drop(columns = 'Churn')\n",
                "y = df_3[['Churn']]"
            ]
        },
        {
            "cell_type": "code",
            "execution_count": 79,
            "metadata": {},
            "outputs": [],
            "source": [
                "from imblearn.over_sampling import SMOTENC\n",
                "smote_nc = SMOTENC(categorical_features = [0,3,4,7, 9], random_state = 0)\n",
                "X_resampled, y_resampled = smote_nc.fit_resample(X, y)"
            ]
        },
        {
            "cell_type": "markdown",
            "metadata": {},
            "source": [
                "Oversampled data class distribution:"
            ]
        },
        {
            "cell_type": "code",
            "execution_count": 80,
            "metadata": {},
            "outputs": [
                {
                    "name": "stdout",
                    "output_type": "stream",
                    "text": [
                        "Non-Churn Users: 4467\n",
                        "Churn Users: 4467\n"
                    ]
                }
            ],
            "source": [
                "print('Non-Churn Users:', y_resampled.value_counts()[0])\n",
                "print('Churn Users:', y_resampled.value_counts()[1])"
            ]
        },
        {
            "cell_type": "markdown",
            "metadata": {},
            "source": [
                "## **One-Hot Ecoding for Object Features**"
            ]
        },
        {
            "cell_type": "code",
            "execution_count": 81,
            "metadata": {},
            "outputs": [],
            "source": [
                "for i in X_resampled.columns:\n",
                "    if X_resampled[i].dtypes == 'O':\n",
                "        X_resampled = X_resampled.join(pd.get_dummies(X_resampled[i], prefix = i))\n",
                "        X_resampled = X_resampled.drop(columns = i)"
            ]
        },
        {
            "cell_type": "markdown",
            "metadata": {},
            "source": [
                "# **Machine Learning Modelling**"
            ]
        },
        {
            "cell_type": "markdown",
            "metadata": {},
            "source": [
                "The classification methods that are going to be used are 2 of the most basic methods; Desicion Tree and Random Forest.\n",
                "While the scoring would be based on 'Recall', because for predicting churn it is important to get as high a possible of true positive prediction.\n",
                "\n",
                "Other basic parameters for the model:\n",
                "1. 80/20 train/test split\n",
                "2. Model are based on sklearn library"
            ]
        },
        {
            "cell_type": "code",
            "execution_count": 82,
            "metadata": {},
            "outputs": [],
            "source": [
                "from sklearn.model_selection import train_test_split\n",
                "from sklearn.model_selection import GridSearchCV\n",
                "from sklearn.model_selection import KFold\n",
                "from sklearn.model_selection import StratifiedKFold\n",
                "\n",
                "from scipy.stats import uniform"
            ]
        },
        {
            "cell_type": "code",
            "execution_count": 83,
            "metadata": {},
            "outputs": [],
            "source": [
                "from sklearn.metrics import accuracy_score, precision_score, recall_score, f1_score, roc_auc_score\n",
                "from sklearn.metrics import roc_curve, auc\n",
                "\n",
                "def eval_classification(model, pred, xtrain, ytrain, xtest, ytest):\n",
                "    print(\"Accuracy (Test Set): %.2f\" % accuracy_score(ytest, pred))\n",
                "    print(\"Precision (Test Set): %.2f\" % precision_score(ytest, pred))\n",
                "    print(\"Recall (Test Set): %.2f\" % recall_score(ytest, pred))\n",
                "    print(\"F1-Score (Test Set): %.2f\" % f1_score(ytest, pred))\n",
                "    \n",
                "    fpr, tpr, thresholds = roc_curve(ytest, pred, pos_label=1) \n",
                "    print(\"AUC: %.2f\" % auc(fpr, tpr))"
            ]
        },
        {
            "cell_type": "markdown",
            "metadata": {},
            "source": [
                "## **Decision Tree**"
            ]
        },
        {
            "cell_type": "code",
            "execution_count": 223,
            "metadata": {},
            "outputs": [],
            "source": [
                "X_train, X_test, y_train, y_test = train_test_split(X_resampled, y_resampled, test_size = 2 / 10, random_state = 42) "
            ]
        },
        {
            "cell_type": "code",
            "execution_count": 224,
            "metadata": {},
            "outputs": [
                {
                    "data": {
                        "text/plain": [
                            "DecisionTreeClassifier(random_state=42)"
                        ]
                    },
                    "execution_count": 224,
                    "metadata": {},
                    "output_type": "execute_result"
                }
            ],
            "source": [
                "from sklearn.tree import DecisionTreeClassifier\n",
                "\n",
                "decisiontree = DecisionTreeClassifier(random_state = 42)\n",
                "decisiontree.fit(X_train, y_train.values.ravel())"
            ]
        },
        {
            "cell_type": "code",
            "execution_count": 225,
            "metadata": {},
            "outputs": [
                {
                    "name": "stdout",
                    "output_type": "stream",
                    "text": [
                        "Train Recall: 1.0\n",
                        "Test Recall: 0.93574 \n",
                        "\n",
                        "Accuracy (Test Set): 0.93\n",
                        "Precision (Test Set): 0.92\n",
                        "Recall (Test Set): 0.94\n",
                        "F1-Score (Test Set): 0.93\n",
                        "AUC: 0.93\n"
                    ]
                }
            ],
            "source": [
                "train_pred = decisiontree.predict(X_train)\n",
                "test_pred = decisiontree.predict(X_test)\n",
                "\n",
                "print('Train Recall:', round(recall_score(y_train, train_pred), 5))\n",
                "print('Test Recall:', round(recall_score(y_test, test_pred), 5), '\\n')\n",
                "\n",
                "eval_classification(randomforest, test_pred, X_train, y_train, X_test, y_test)"
            ]
        },
        {
            "cell_type": "markdown",
            "metadata": {},
            "source": [
                "## **Random Forest**"
            ]
        },
        {
            "cell_type": "code",
            "execution_count": 226,
            "metadata": {},
            "outputs": [],
            "source": [
                "X_train, X_test, y_train, y_test = train_test_split(X_resampled, y_resampled, test_size = 2 / 10, random_state = 42) "
            ]
        },
        {
            "cell_type": "code",
            "execution_count": 227,
            "metadata": {},
            "outputs": [
                {
                    "data": {
                        "text/plain": [
                            "RandomForestClassifier(random_state=42)"
                        ]
                    },
                    "execution_count": 227,
                    "metadata": {},
                    "output_type": "execute_result"
                }
            ],
            "source": [
                "from sklearn.ensemble import RandomForestClassifier\n",
                "\n",
                "randomforest = RandomForestClassifier(random_state = 42)\n",
                "randomforest.fit(X_train, y_train.values.ravel())"
            ]
        },
        {
            "cell_type": "code",
            "execution_count": 228,
            "metadata": {},
            "outputs": [
                {
                    "name": "stdout",
                    "output_type": "stream",
                    "text": [
                        "Train Recall: 1.0\n",
                        "Test Recall: 0.95716 \n",
                        "\n",
                        "Accuracy (Test Set): 0.97\n",
                        "Precision (Test Set): 0.97\n",
                        "Recall (Test Set): 0.96\n",
                        "F1-Score (Test Set): 0.97\n",
                        "AUC: 0.97\n"
                    ]
                }
            ],
            "source": [
                "train_pred = randomforest.predict(X_train)\n",
                "test_pred = randomforest.predict(X_test)\n",
                "\n",
                "print('Train Recall:', round(recall_score(y_train, train_pred), 5))\n",
                "print('Test Recall:', round(recall_score(y_test, test_pred), 5), '\\n')\n",
                "\n",
                "eval_classification(randomforest, test_pred, X_train, y_train, X_test, y_test)"
            ]
        },
        {
            "cell_type": "markdown",
            "metadata": {},
            "source": [
                "# **Model Tuning**"
            ]
        },
        {
            "cell_type": "markdown",
            "metadata": {},
            "source": [
                "Out of the 2 models, Random Forest model results in a better result out of the shelf, so the model would be based on Random Forest.\n",
                "However, some tuning would still need to be done. Most of the time tree based model out of the shelf tend to overfit; one clear indication is that the train score result is 100%."
            ]
        },
        {
            "cell_type": "markdown",
            "metadata": {},
            "source": [
                "## **Hyperparameter Tuning**"
            ]
        },
        {
            "cell_type": "markdown",
            "metadata": {},
            "source": [
                "The most important hyperparameter to tune in a tree based model is the `max-depth`. This is because on default the `max-depth` varibale is set to infitie (maximum) value; this lets the model to keep making new tree and leaf to cater to the diff data combinations which ends up overfitting the data. To check check what the best `max-depth` should be, it is possible to check by drawing a graph:"
            ]
        },
        {
            "cell_type": "code",
            "execution_count": 229,
            "metadata": {},
            "outputs": [],
            "source": [
                "max_depth = []\n",
                "i = 1\n",
                "while i < 21:\n",
                "    max_depth.append([i])\n",
                "    i = i + 1"
            ]
        },
        {
            "cell_type": "code",
            "execution_count": 230,
            "metadata": {},
            "outputs": [],
            "source": [
                "Train = []\n",
                "Test = []\n",
                "\n",
                "for i in max_depth:\n",
                "    hyperparameters = dict(max_depth = i)\n",
                "\n",
                "    rf = RandomForestClassifier(random_state = 1)\n",
                "    model = GridSearchCV(rf, hyperparameters)\n",
                "    model.fit(X_train, y_train.values.ravel())\n",
                "\n",
                "    train_pred =model.predict(X_train)\n",
                "    test_pred = model.predict(X_test)\n",
                "\n",
                "    Test.append(recall_score(y_test, test_pred)) \n",
                "    Train.append(recall_score(y_train, train_pred))"
            ]
        },
        {
            "cell_type": "code",
            "execution_count": 231,
            "metadata": {},
            "outputs": [],
            "source": [
                "palette = [\"lightslategrey\", \"cadetblue\", '#444f4f']\n",
                "sns.set_palette(sns.color_palette(palette))"
            ]
        },
        {
            "cell_type": "code",
            "execution_count": 232,
            "metadata": {},
            "outputs": [
                {
                    "data": {
                        "image/png": "[encoded data removed]",
                        "text/plain": [
                            "<Figure size 864x504 with 1 Axes>"
                        ]
                    },
                    "metadata": {
                        "needs_background": "light"
                    },
                    "output_type": "display_data"
                }
            ],
            "source": [
                "fig, ax = plt.subplots(figsize = (12, 7))\n",
                "ax.plot(max_depth, Train, label = 'Train', marker = 'o', linestyle = '-')\n",
                "ax.plot(max_depth, Test, label = 'Test', marker = 'o', linestyle = '-.')\n",
                "\n",
                "plotlabel(ax, 'Max Depth', 'Recall Score', '#444f4f')\n",
                "\n",
                "plotborder(ax, 'darkslategrey', 'darkslategrey')\n",
                "\n",
                "ax.set_title('RandomForest - Max Depth', pad = 20, fontsize = 22, color = '#444f4f', fontweight = 'bold')\n",
                "ax.legend()\n",
                "\n",
                "plt.grid()\n",
                "ax.set_xticks(max_depth);"
            ]
        },
        {
            "cell_type": "code",
            "execution_count": 233,
            "metadata": {},
            "outputs": [
                {
                    "data": {
                        "text/html": [
                            "<div>\n",
                            "<style scoped>\n",
                            "    .dataframe tbody tr th:only-of-type {\n",
                            "        vertical-align: middle;\n",
                            "    }\n",
                            "\n",
                            "    .dataframe tbody tr th {\n",
                            "        vertical-align: top;\n",
                            "    }\n",
                            "\n",
                            "    .dataframe thead th {\n",
                            "        text-align: right;\n",
                            "    }\n",
                            "</style>\n",
                            "<table border=\"1\" class=\"dataframe\">\n",
                            "  <thead>\n",
                            "    <tr style=\"text-align: right;\">\n",
                            "      <th></th>\n",
                            "      <th>max-depth</th>\n",
                            "      <th>train-score</th>\n",
                            "      <th>test-score</th>\n",
                            "      <th>score-diff</th>\n",
                            "    </tr>\n",
                            "  </thead>\n",
                            "  <tbody>\n",
                            "    <tr>\n",
                            "      <th>0</th>\n",
                            "      <td>1</td>\n",
                            "      <td>0.690503</td>\n",
                            "      <td>0.687711</td>\n",
                            "      <td>0.002791</td>\n",
                            "    </tr>\n",
                            "    <tr>\n",
                            "      <th>1</th>\n",
                            "      <td>2</td>\n",
                            "      <td>0.730726</td>\n",
                            "      <td>0.724915</td>\n",
                            "      <td>0.005811</td>\n",
                            "    </tr>\n",
                            "    <tr>\n",
                            "      <th>2</th>\n",
                            "      <td>3</td>\n",
                            "      <td>0.767039</td>\n",
                            "      <td>0.764374</td>\n",
                            "      <td>0.002665</td>\n",
                            "    </tr>\n",
                            "    <tr>\n",
                            "      <th>3</th>\n",
                            "      <td>4</td>\n",
                            "      <td>0.774022</td>\n",
                            "      <td>0.764374</td>\n",
                            "      <td>0.009648</td>\n",
                            "    </tr>\n",
                            "    <tr>\n",
                            "      <th>4</th>\n",
                            "      <td>5</td>\n",
                            "      <td>0.796369</td>\n",
                            "      <td>0.785795</td>\n",
                            "      <td>0.010574</td>\n",
                            "    </tr>\n",
                            "    <tr>\n",
                            "      <th>5</th>\n",
                            "      <td>6</td>\n",
                            "      <td>0.844413</td>\n",
                            "      <td>0.835400</td>\n",
                            "      <td>0.009013</td>\n",
                            "    </tr>\n",
                            "    <tr>\n",
                            "      <th>6</th>\n",
                            "      <td>7</td>\n",
                            "      <td>0.883799</td>\n",
                            "      <td>0.868095</td>\n",
                            "      <td>0.015704</td>\n",
                            "    </tr>\n",
                            "    <tr>\n",
                            "      <th>7</th>\n",
                            "      <td>8</td>\n",
                            "      <td>0.915922</td>\n",
                            "      <td>0.891770</td>\n",
                            "      <td>0.024152</td>\n",
                            "    </tr>\n",
                            "    <tr>\n",
                            "      <th>8</th>\n",
                            "      <td>9</td>\n",
                            "      <td>0.944693</td>\n",
                            "      <td>0.907554</td>\n",
                            "      <td>0.037139</td>\n",
                            "    </tr>\n",
                            "    <tr>\n",
                            "      <th>9</th>\n",
                            "      <td>10</td>\n",
                            "      <td>0.962011</td>\n",
                            "      <td>0.931229</td>\n",
                            "      <td>0.030782</td>\n",
                            "    </tr>\n",
                            "    <tr>\n",
                            "      <th>10</th>\n",
                            "      <td>11</td>\n",
                            "      <td>0.979888</td>\n",
                            "      <td>0.941375</td>\n",
                            "      <td>0.038513</td>\n",
                            "    </tr>\n",
                            "    <tr>\n",
                            "      <th>11</th>\n",
                            "      <td>12</td>\n",
                            "      <td>0.989106</td>\n",
                            "      <td>0.949267</td>\n",
                            "      <td>0.039839</td>\n",
                            "    </tr>\n",
                            "    <tr>\n",
                            "      <th>12</th>\n",
                            "      <td>13</td>\n",
                            "      <td>0.994693</td>\n",
                            "      <td>0.950395</td>\n",
                            "      <td>0.044298</td>\n",
                            "    </tr>\n",
                            "    <tr>\n",
                            "      <th>13</th>\n",
                            "      <td>14</td>\n",
                            "      <td>0.998603</td>\n",
                            "      <td>0.959414</td>\n",
                            "      <td>0.039190</td>\n",
                            "    </tr>\n",
                            "    <tr>\n",
                            "      <th>14</th>\n",
                            "      <td>15</td>\n",
                            "      <td>0.999721</td>\n",
                            "      <td>0.951522</td>\n",
                            "      <td>0.048199</td>\n",
                            "    </tr>\n",
                            "    <tr>\n",
                            "      <th>15</th>\n",
                            "      <td>16</td>\n",
                            "      <td>1.000000</td>\n",
                            "      <td>0.960541</td>\n",
                            "      <td>0.039459</td>\n",
                            "    </tr>\n",
                            "    <tr>\n",
                            "      <th>16</th>\n",
                            "      <td>17</td>\n",
                            "      <td>1.000000</td>\n",
                            "      <td>0.954904</td>\n",
                            "      <td>0.045096</td>\n",
                            "    </tr>\n",
                            "    <tr>\n",
                            "      <th>17</th>\n",
                            "      <td>18</td>\n",
                            "      <td>1.000000</td>\n",
                            "      <td>0.960541</td>\n",
                            "      <td>0.039459</td>\n",
                            "    </tr>\n",
                            "    <tr>\n",
                            "      <th>18</th>\n",
                            "      <td>19</td>\n",
                            "      <td>1.000000</td>\n",
                            "      <td>0.957159</td>\n",
                            "      <td>0.042841</td>\n",
                            "    </tr>\n",
                            "    <tr>\n",
                            "      <th>19</th>\n",
                            "      <td>20</td>\n",
                            "      <td>1.000000</td>\n",
                            "      <td>0.960541</td>\n",
                            "      <td>0.039459</td>\n",
                            "    </tr>\n",
                            "  </tbody>\n",
                            "</table>\n",
                            "</div>"
                        ],
                        "text/plain": [
                            "    max-depth  train-score  test-score  score-diff\n",
                            "0           1     0.690503    0.687711    0.002791\n",
                            "1           2     0.730726    0.724915    0.005811\n",
                            "2           3     0.767039    0.764374    0.002665\n",
                            "3           4     0.774022    0.764374    0.009648\n",
                            "4           5     0.796369    0.785795    0.010574\n",
                            "5           6     0.844413    0.835400    0.009013\n",
                            "6           7     0.883799    0.868095    0.015704\n",
                            "7           8     0.915922    0.891770    0.024152\n",
                            "8           9     0.944693    0.907554    0.037139\n",
                            "9          10     0.962011    0.931229    0.030782\n",
                            "10         11     0.979888    0.941375    0.038513\n",
                            "11         12     0.989106    0.949267    0.039839\n",
                            "12         13     0.994693    0.950395    0.044298\n",
                            "13         14     0.998603    0.959414    0.039190\n",
                            "14         15     0.999721    0.951522    0.048199\n",
                            "15         16     1.000000    0.960541    0.039459\n",
                            "16         17     1.000000    0.954904    0.045096\n",
                            "17         18     1.000000    0.960541    0.039459\n",
                            "18         19     1.000000    0.957159    0.042841\n",
                            "19         20     1.000000    0.960541    0.039459"
                        ]
                    },
                    "execution_count": 233,
                    "metadata": {},
                    "output_type": "execute_result"
                }
            ],
            "source": [
                "a = pd.DataFrame(max_depth)\n",
                "b = pd.DataFrame(Train)\n",
                "c = pd.DataFrame(Test)\n",
                "\n",
                "maxdepthresults = pd.concat([a, b, c], axis = 1)\n",
                "maxdepthresults.columns = ['max-depth', 'train-score', 'test-score']\n",
                "maxdepthresults['score-diff'] = maxdepthresults['train-score'] - maxdepthresults['test-score']\n",
                "\n",
                "maxdepthresults"
            ]
        },
        {
            "cell_type": "markdown",
            "metadata": {},
            "source": [
                "From the graph above, there are 2 important thing to observe:\n",
                "1. Growth of discrepancy between scores of `Train` and `Test` results. For obvious reasons, train score result will often if not always be higher; but the bigger the discrepancy of both scores would indicate the model to be overfitting.\n",
                "2. Shape of the curve; the plateu-ing of the scores, where the growth in score starts to slows down.\n",
                "\n",
                "Considering both points, the best `max-depth` would be n=10."
            ]
        },
        {
            "cell_type": "markdown",
            "metadata": {},
            "source": [
                "## **Random Forest (Tuned)**"
            ]
        },
        {
            "cell_type": "code",
            "execution_count": 234,
            "metadata": {},
            "outputs": [
                {
                    "name": "stdout",
                    "output_type": "stream",
                    "text": [
                        "Train Recall: 0.96201\n",
                        "Test Recall: 0.93123 \n",
                        "\n",
                        "Accuracy (Test Set): 0.92\n",
                        "Precision (Test Set): 0.91\n",
                        "Recall (Test Set): 0.93\n",
                        "F1-Score (Test Set): 0.92\n",
                        "AUC: 0.92\n"
                    ]
                }
            ],
            "source": [
                "rf = RandomForestClassifier(random_state = 1, max_depth = 10)\n",
                "rf.fit(X_train, y_train.values.ravel())\n",
                "\n",
                "train_pred = rf.predict(X_train)\n",
                "test_pred = rf.predict(X_test)\n",
                "\n",
                "print('Train Recall:', round(recall_score(y_train, train_pred), 5))\n",
                "print('Test Recall:', round(recall_score(y_test, test_pred), 5), '\\n')\n",
                "\n",
                "eval_classification(model, test_pred, X_train, y_train, X_test, y_test)"
            ]
        },
        {
            "cell_type": "markdown",
            "metadata": {},
            "source": [
                "## **Feature Importance**"
            ]
        },
        {
            "cell_type": "code",
            "execution_count": 235,
            "metadata": {},
            "outputs": [
                {
                    "data": {
                        "text/plain": [
                            "Text(0.5, 1.0, 'RandomForest - Feature Importance')"
                        ]
                    },
                    "execution_count": 235,
                    "metadata": {},
                    "output_type": "execute_result"
                },
                {
                    "data": {
                        "image/png": "[encoded data removed]",
                        "text/plain": [
                            "<Figure size 864x504 with 1 Axes>"
                        ]
                    },
                    "metadata": {
                        "needs_background": "light"
                    },
                    "output_type": "display_data"
                }
            ],
            "source": [
                "feat_importances = pd.DataFrame(rf.feature_importances_, index = X_resampled.columns).reset_index()\n",
                "feat_importances.columns = ['Feature', 'Importance'] \n",
                "feat_importances = feat_importances.nlargest(10, 'Importance').sort_values(by = ['Importance'], ascending = False)\n",
                "\n",
                "fig, ax = plt.subplots(figsize = (12, 7))\n",
                "ax = sns.barplot(data = feat_importances, x = 'Importance', y = 'Feature', color = 'cadetblue')\n",
                "\n",
                "## X-label Y-label\n",
                "plotlabel(ax, 'Importance Level', 'Features', '#444f4f')\n",
                "\n",
                "## Borders\n",
                "plotborder(ax, 'darkslategrey', 'darkslategrey')\n",
                "\n",
                "ax.set_title('RandomForest - Feature Importance', pad = 20, fontsize = 22, color = '#444f4f', fontweight = 'bold')"
            ]
        },
        {
            "cell_type": "markdown",
            "metadata": {},
            "source": [
                "## **Cross Validation**"
            ]
        },
        {
            "cell_type": "markdown",
            "metadata": {},
            "source": [
                "To be able to check if the model is reliable, it is important to do a cross validation. One of the way is to iterate the model into multiple folds.\n",
                "\n",
                "Folds are designed to split the train data into 2 parts; (1) data that will actually be used to train model; (2) data to validate test results.\n",
                "Since the original train data is 80% of the total sample, the data are split into 8 parts, each part representing 10% of the sample. Every fold iteration then will select 1 out of 8 parts in turn and designate it to be the validation data; the rest of the 7 parts are combined to be the test data. This will result in 8 different train, test, and validatin scores to be observed."
            ]
        },
        {
            "cell_type": "code",
            "execution_count": 236,
            "metadata": {},
            "outputs": [],
            "source": [
                "score_train = []\n",
                "score_test = []\n",
                "score_val = []\n",
                "folds = []\n",
                "\n",
                "kfold = KFold(n_splits = 8, random_state = 1, shuffle = True)\n",
                "\n",
                "for i, (train_index, test_index) in enumerate(kfold.split(X_train)):\n",
                "    X1_train, X1_test = X_train.iloc[train_index], X_train.iloc[test_index]\n",
                "    y1_train, y1_test = y_train.iloc[train_index], y_train.iloc[test_index]\n",
                "\n",
                "    rf.fit(X1_train, y1_train.values.ravel())\n",
                "\n",
                "    train_pred = rf.predict(X1_train)\n",
                "    test_pred = rf.predict(X_test)\n",
                "    val_pred = rf.predict(X1_test)\n",
                "    \n",
                "    folds.append(i)\n",
                "    score_train.append(recall_score(y1_train, train_pred)) ##score of per fold's model with fold's train target; prediction using fold's train features\n",
                "    score_test.append(recall_score(y_test, test_pred)) ##score of per fold's model with fold's test target;  prediction using fold's test features\n",
                "    score_val.append(recall_score(y1_test, val_pred)) ##score of per fold's model with test target; prediction using test features\n",
                "    "
            ]
        },
        {
            "cell_type": "code",
            "execution_count": 237,
            "metadata": {},
            "outputs": [
                {
                    "data": {
                        "text/plain": [
                            "Text(5, 0.945, '\\n    * Train Standard Deviation : 0.00219\\n    * Test Standard Deviation : 0.00635 \\n    * Val Standard Deviation : 0.00714     \\n')"
                        ]
                    },
                    "execution_count": 237,
                    "metadata": {},
                    "output_type": "execute_result"
                },
                {
                    "data": {
                        "image/png": "[encoded data removed]",
                        "text/plain": [
                            "<Figure size 864x504 with 1 Axes>"
                        ]
                    },
                    "metadata": {
                        "needs_background": "light"
                    },
                    "output_type": "display_data"
                }
            ],
            "source": [
                "test_mean = np.mean(score_test)\n",
                "train_mean = np.mean(score_train)\n",
                "val_mean = np.mean(score_val)\n",
                "\n",
                "train_std = np.std(score_train)\n",
                "test_std = np.std(score_test)\n",
                "val_std = np.std(score_val)\n",
                "\n",
                "fig, ax = plt.subplots(figsize = (12, 7))\n",
                "ax.plot(score_train, label = 'Train', marker = 'o', linestyle = '-.')\n",
                "ax.plot(score_test, label = 'Test', marker = 'o', linestyle = ':')\n",
                "ax.plot(score_val, label = 'Val', marker = 'o', linestyle = '--')\n",
                "\n",
                "plotlabel(ax, 'No. of Folds', 'Recall Score', '#444f4f')\n",
                "\n",
                "plotborder(ax, 'darkslategrey', 'darkslategrey')\n",
                "\n",
                "ax.set_title('RandomForest - Train, Test, Val Error', pad = 20, fontsize = 22, color = '#444f4f', fontweight = 'bold')\n",
                "\n",
                "ax.legend(loc = 'best')\n",
                "\n",
                "## print mean value \n",
                "text_m = '''\n",
                "    * Train Mean : ''' + str(format(train_mean, '.5f')) + '''\n",
                "    * Test Mean : ''' + str(format(test_mean, '.5f')) + ''' \n",
                "    * Val Mean : ''' + str(format(val_mean, '.5f')) + '''     \n",
                "'''\n",
                "ax.text(0.2, 0.945, text_m, horizontalalignment = 'left', color = 'black', fontsize = 12, fontweight = 'normal')\n",
                "\n",
                "## print standard deviation value \n",
                "text_s = '''\n",
                "    * Train Standard Deviation : ''' + str(format(train_std, '.5f')) + '''\n",
                "    * Test Standard Deviation : ''' + str(format(test_std, '.5f')) + ''' \n",
                "    * Val Standard Deviation : ''' + str(format(val_std, '.5f')) + '''     \n",
                "'''\n",
                "ax.text(5, 0.945, text_s, horizontalalignment = 'left', color = 'black', fontsize = 12, fontweight = 'normal')"
            ]
        },
        {
            "cell_type": "markdown",
            "metadata": {},
            "source": [
                "From the graph above, it is clear that the model shows constant results; which means that the model is reliable enough to be used."
            ]
        }
    ],
    "metadata": {
        "interpreter": {
            "hash": "4a93cca62c98df801609760b5713e6a901a32d7d356f7640c3680f0ca00b0d14"
        },
        "kernelspec": {
            "display_name": "Python 3.9.6 64-bit ('my-env': conda)",
            "name": "python3"
        },
        "language_info": {
            "codemirror_mode": {
                "name": "ipython",
                "version": 3
            },
            "file_extension": ".py",
            "mimetype": "text/x-python",
            "name": "python",
            "nbconvert_exporter": "python",
            "pygments_lexer": "ipython3",
            "version": "3.9.6"
        },
        "orig_nbformat": 4
    },
    "nbformat": 4,
    "nbformat_minor": 2
}
